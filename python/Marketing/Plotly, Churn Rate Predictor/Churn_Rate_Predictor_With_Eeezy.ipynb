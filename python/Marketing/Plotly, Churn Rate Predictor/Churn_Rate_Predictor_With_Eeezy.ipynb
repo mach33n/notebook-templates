{
 "cells": [
  {
   "cell_type": "markdown",
   "metadata": {
    "extensions": {
     "jupyter_dashboards": {
      "version": 1,
      "views": {
       "grid_default": {
        "col": 0,
        "height": 4,
        "hidden": false,
        "row": 0,
        "width": 4
       },
       "report_default": {}
      }
     }
    }
   },
   "source": [
    "# Data Science Workflow"
   ]
  },
  {
   "cell_type": "markdown",
   "metadata": {
    "extensions": {
     "jupyter_dashboards": {
      "version": 1,
      "views": {
       "grid_default": {
        "col": 0,
        "height": 4,
        "hidden": false,
        "row": 4,
        "width": 12
       },
       "report_default": {}
      }
     }
    }
   },
   "source": [
    "## Problem Definition: Using customer data, we want to predict which customers are going to churn or may leave the subscription that you provide."
   ]
  },
  {
   "cell_type": "markdown",
   "metadata": {
    "extensions": {
     "jupyter_dashboards": {
      "version": 1,
      "views": {
       "grid_default": {
        "col": 0,
        "height": 6,
        "hidden": false,
        "row": 8,
        "width": 12
       },
       "report_default": {}
      }
     }
    }
   },
   "source": [
    "### Further Information:\n",
    "### What is Churn?\n",
    "Churn is the measure of the the amount of people who stop subscribing or buying a product over time. In situations where consumers are subscribing to a service it is important to measure how likely those people are to stop subscribing. In this demo, when churn is true, it will hold the value of 1. When a customer does not churn, it will hold a value of 0."
   ]
  },
  {
   "cell_type": "markdown",
   "metadata": {
    "extensions": {
     "jupyter_dashboards": {
      "version": 1,
      "views": {
       "grid_default": {
        "col": 4,
        "height": 4,
        "hidden": false,
        "row": 0,
        "width": 4
       },
       "report_default": {}
      }
     }
    }
   },
   "source": [
    "### Imports"
   ]
  },
  {
   "cell_type": "markdown",
   "metadata": {
    "extensions": {
     "jupyter_dashboards": {
      "version": 1,
      "views": {
       "grid_default": {
        "col": 8,
        "height": 4,
        "hidden": false,
        "row": 0,
        "width": 4
       },
       "report_default": {}
      }
     }
    }
   },
   "source": [
    "<style>\n",
    "th {\n",
    "background-color:#55FF33;\n",
    "}\n",
    "td {\n",
    "background-color:#00FFFF;\n",
    "}\n",
    "</style>"
   ]
  },
  {
   "cell_type": "code",
   "execution_count": null,
   "metadata": {
    "collapsed": true,
    "extensions": {
     "jupyter_dashboards": {
      "version": 1,
      "views": {
       "grid_default": {
        "col": 4,
        "height": 5,
        "hidden": false,
        "row": 14,
        "width": 4
       },
       "report_default": {}
      }
     }
    },
    "scrolled": true
   },
   "outputs": [],
   "source": [
    "%matplotlib inline\n",
    "import sys\n",
    "sys.path.append(\"C:\\\\Users\\\\elijah2352\\\\Documents\\\\GitHub\\\\eezzy\")\n",
    "from imports import *\n",
    "# Problem with the data science workflow is that I don't want to lock the user into a specified workflow with Eezzy. Eezzy\n",
    "# should be a flexible tool, not one that locks you into a workflow."
   ]
  },
  {
   "cell_type": "markdown",
   "metadata": {
    "extensions": {
     "jupyter_dashboards": {
      "version": 1,
      "views": {
       "grid_default": {
        "col": 0,
        "height": 4,
        "hidden": false,
        "row": 64,
        "width": 12
       },
       "report_default": {}
      }
     }
    }
   },
   "source": [
    "## Data Collection\n",
    "\n",
    "This phase of the project is where we connect to an external data stream such as a SQL database, an S3 bucket, or a simple CSV file so that we can gain access to our data."
   ]
  },
  {
   "cell_type": "code",
   "execution_count": null,
   "metadata": {
    "collapsed": true,
    "extensions": {
     "jupyter_dashboards": {
      "version": 1,
      "views": {
       "grid_default": {
        "col": 0,
        "height": 28,
        "hidden": false,
        "row": 36,
        "width": 4
       },
       "report_default": {}
      }
     }
    }
   },
   "outputs": [],
   "source": [
    "churn_data = pd.read_hdf(\"C:\\\\Users\\\\elijah2352\\\\Downloads\\\\churndata.h5\")\n",
    "#print(churn_data.head())\n",
    "# Oultier Check\n",
    "tbs_summary.summarize_data(churn_data, 'Churn?')"
   ]
  },
  {
   "cell_type": "markdown",
   "metadata": {
    "extensions": {
     "jupyter_dashboards": {
      "version": 1,
      "views": {
       "grid_default": {
        "col": 0,
        "height": 4,
        "hidden": false,
        "row": 68,
        "width": 12
       },
       "report_default": {}
      }
     }
    }
   },
   "source": [
    "## Data Preparation: Model Development\n",
    "\n",
    "Here, we take the data and begin to employ aggregations, filtering, and variable conversions into a format that a machine learning algorithm can understand. This is a bit different from "
   ]
  },
  {
   "cell_type": "code",
   "execution_count": null,
   "metadata": {
    "collapsed": true,
    "extensions": {
     "jupyter_dashboards": {
      "version": 1,
      "views": {
       "grid_default": {
        "col": 4,
        "height": 12,
        "hidden": false,
        "row": 36,
        "width": 4
       },
       "report_default": {}
      }
     }
    },
    "scrolled": true
   },
   "outputs": [],
   "source": [
    "churn_exp = churn_data.copy()\n",
    "eezzy_data.eezzy_check(data=churn_exp, prediction='Churn?', clean_columns=True)\n",
    "\n",
    "churn_exp = cleaner.eezzy_clean(churn_exp, 'Churn', regex='[.]')\n",
    "tbs_transform.dummy_variable(data = churn_exp, column = 'State', in_column = False)\n",
    "tbs_transform.area_code_converter(data = churn_exp, column = 'Area Code', region_convert = False)\n",
    "tbs_transform.dummy_variable(data = churn_exp, column =  'State Area Code', \n",
    "                             in_column=True)\n",
    "\n",
    "tbs_transform.dummy_variable(data = churn_exp, column =  [\"Int'l Plan\", \"VMail Plan\"], \n",
    "                             in_column=True, transform_keys={'yes' : 1, 'no' : 0})\n",
    "tbs_transform.dummy_variable(data = churn_exp, column =  [\"Churn\"], \n",
    "                             in_column=True, transform_keys={'True.' : 1, 'False.' : 0})\n",
    "tbs_transform.stratified_sampling(data = churn_exp, prediction = 'Churn',\n",
    "                                  sample_split = [.80, .20], class_imbal_tol= .10)\n",
    "churn_exp.drop(['Phone'], axis=1, inplace=True)\n",
    "churn_exp.drop(['State Area Code'], axis=1, inplace=True)\n",
    "print(churn_exp.head())"
   ]
  },
  {
   "cell_type": "markdown",
   "metadata": {
    "extensions": {
     "jupyter_dashboards": {
      "version": 1,
      "views": {
       "grid_default": {
        "col": 8,
        "height": 4,
        "hidden": false,
        "row": 14,
        "width": 4
       },
       "report_default": {}
      }
     }
    }
   },
   "source": [
    "## Model Development and Error Analysis"
   ]
  },
  {
   "cell_type": "code",
   "execution_count": null,
   "metadata": {
    "collapsed": true,
    "extensions": {
     "jupyter_dashboards": {
      "version": 1,
      "views": {
       "grid_default": {
        "col": 8,
        "height": 12,
        "hidden": false,
        "row": 36,
        "width": null
       },
       "report_default": {}
      }
     }
    }
   },
   "outputs": [],
   "source": [
    "# Eezzy ML\n",
    "\n",
    "# Need to see if client-side monitoring is possible. This would make is easier to discern what data should go where\n",
    "# or, if we can see the predictor variable specified in one of our functions, then we can fill in stuff like that. \n",
    "# If we see multiple data sources, then we can map the predictor variable to the data source if they've used an Eezzy \n",
    "# function and update it on the fly by re-displaying the output.\n",
    "# It may also allow us to automatically discern the training_testing split\n",
    "# Maybe call it eezzy_monitor and have it act as a separate service or something like that.\n",
    "# For AUC, tell the user that the skewed data may have a negative effect on the validity of the AUC\n",
    "# Need a way to do error analysis. Need to first decrease the dimensionality of the data, then plot the points with each \n",
    "# class having a different color.\n",
    "# Need a way for the tool to help with ensembling the methods if the user wants\n",
    "# Need to also graph the clusters and add them as a feature\n",
    "# Need to show the dimensionality reduction features as well\n",
    "# Need to add an elbow curve method to the clustering part\n",
    "# Optimize only the best hyperparameters for the job first. This is if the user specifies. We should also show the progress\n",
    "# of each job as a plotly plot.\n",
    "# Need to add a distribution of the predicted probabilities\n",
    "# Need Cross Validation Scores vs. Test Set Scores. Maybe just have the differences between the 2 as a faster method.\n",
    "# Also, should probably plot the average prediction times.\n",
    "# Need to think about adding an exploratory data analysis method method\n",
    "# Aggregations will be key. Faster Aggregations to data mapping is what will be the key to faster analysis\n",
    "# While going through Random Forests or Decision Trees, I wonder if it would be beneficial to \n",
    "# Add something like \"Maybe adding more categorical features would increase the accuracy of the model if you're using \n",
    "# Decision Trees\" or something like that. Also, give hints like ability to tune the precision, recall tradeoff\n",
    "# Maybe let the user pass in their own training and testing splits.\n",
    "# \n",
    "tbs_ml.eezzy_ml(X=churn_exp, prediction_feature='Churn')"
   ]
  }
 ],
 "metadata": {
  "extensions": {
   "jupyter_dashboards": {
    "activeView": "grid_default",
    "version": 1,
    "views": {
     "grid_default": {
      "cellMargin": 10,
      "defaultCellHeight": 20,
      "maxColumns": 12,
      "name": "grid",
      "type": "grid"
     },
     "report_default": {
      "name": "report",
      "type": "report"
     }
    }
   }
  },
  "kernelspec": {
   "display_name": "Python 3",
   "language": "python",
   "name": "python3"
  },
  "language_info": {
   "codemirror_mode": {
    "name": "ipython",
    "version": 3
   },
   "file_extension": ".py",
   "mimetype": "text/x-python",
   "name": "python",
   "nbconvert_exporter": "python",
   "pygments_lexer": "ipython3",
   "version": "3.5.3"
  }
 },
 "nbformat": 4,
 "nbformat_minor": 2
}
