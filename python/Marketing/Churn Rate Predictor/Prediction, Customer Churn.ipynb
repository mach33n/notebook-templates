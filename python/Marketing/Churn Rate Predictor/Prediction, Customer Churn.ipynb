{
 "cells": [
  {
   "cell_type": "markdown",
   "metadata": {
    "extensions": {
     "jupyter_dashboards": {
      "version": 1,
      "views": {
       "grid_default": {
        "col": 0,
        "height": 4,
        "hidden": false,
        "row": 0,
        "width": 4
       },
       "report_default": {
        "hidden": false
       }
      }
     }
    }
   },
   "source": [
    "# Customer Churn Prediction"
   ]
  },
  {
   "cell_type": "markdown",
   "metadata": {
    "extensions": {
     "jupyter_dashboards": {
      "version": 1,
      "views": {
       "grid_default": {
        "col": 0,
        "height": 6,
        "hidden": false,
        "row": 8,
        "width": 12
       },
       "report_default": {
        "hidden": false
       }
      }
     }
    }
   },
   "source": [
    "Customer Churn is the measure of the the amount of people who stop subscribing or buying a product over time. In situations where consumers are subscribing to a service, it is important to measure how likely those people are to stop subscribing because it may allow the marketing team to intervene in an attempt to stop him/her from churning. This can be accomplished by sending the user a discount code, reaching out to the user for a personalized review of the product in order to find pain points, etc. In this demo, when churn is true, it will hold the value of 1. When a customer does not churn, it will hold a value of 0."
   ]
  },
  {
   "cell_type": "markdown",
   "metadata": {
    "extensions": {
     "jupyter_dashboards": {
      "version": 1,
      "views": {
       "grid_default": {
        "col": 4,
        "height": 4,
        "hidden": false,
        "row": 0,
        "width": 4
       },
       "report_default": {
        "hidden": false
       }
      }
     }
    }
   },
   "source": [
    "### Imports"
   ]
  },
  {
   "cell_type": "code",
   "execution_count": 15,
   "metadata": {
    "extensions": {
     "jupyter_dashboards": {
      "version": 1,
      "views": {
       "grid_default": {
        "col": 8,
        "height": 4,
        "hidden": false,
        "row": 0,
        "width": 4
       },
       "report_default": {
        "hidden": true
       }
      }
     }
    }
   },
   "outputs": [],
   "source": [
    "# Import our favorite data science packages\n",
    "import scipy\n",
    "import importlib\n",
    "import os\n",
    "import pandas as pd\n",
    "import numpy as np\n",
    "import seaborn as sns\n",
    "\n",
    "# We also will need a list of plotting libraries \n",
    "import seaborn as sns\n",
    "import matplotlib.pyplot as plt\n",
    "%matplotlib inline\n",
    "\n",
    "\n",
    "# Import the libraries needed to import data from UCI into pandas\n",
    "import re\n",
    "import requests\n",
    "import io\n",
    "\n",
    "# Import sklearn libraries\n",
    "from sklearn.utils import shuffle\n",
    "from sklearn.metrics import accuracy_score, f1_score, recall_score, auc, precision_score, roc_auc_score, roc_curve, confusion_matrix\n",
    "from sklearn.model_selection import cross_val_score\n",
    "\n",
    "# Import the support libraries\n",
    "from collections import OrderedDict"
   ]
  },
  {
   "cell_type": "markdown",
   "metadata": {
    "extensions": {
     "jupyter_dashboards": {
      "version": 1,
      "views": {
       "grid_default": {
        "col": 0,
        "height": 4,
        "hidden": false,
        "row": 14,
        "width": 12
       },
       "report_default": {
        "hidden": false
       }
      }
     }
    }
   },
   "source": [
    "## Data Collection"
   ]
  },
  {
   "cell_type": "code",
   "execution_count": 2,
   "metadata": {
    "extensions": {
     "jupyter_dashboards": {
      "version": 1,
      "views": {
       "grid_default": {
        "col": 0,
        "height": 12,
        "hidden": false,
        "row": 30,
        "width": 4
       },
       "report_default": {
        "hidden": true
       }
      }
     }
    },
    "scrolled": false
   },
   "outputs": [
    {
     "name": "stdout",
     "output_type": "stream",
     "text": [
      "  State  Account Length  Area Code     Phone Int'l Plan VMail Plan  \\\n",
      "0    KS             128        415  382-4657         no        yes   \n",
      "1    OH             107        415  371-7191         no        yes   \n",
      "2    NJ             137        415  358-1921         no         no   \n",
      "3    OH              84        408  375-9999        yes         no   \n",
      "4    OK              75        415  330-6626        yes         no   \n",
      "\n",
      "   VMail Message  Day Mins  Day Calls  Day Charge   ...    Eve Calls  \\\n",
      "0             25     265.1        110       45.07   ...           99   \n",
      "1             26     161.6        123       27.47   ...          103   \n",
      "2              0     243.4        114       41.38   ...          110   \n",
      "3              0     299.4         71       50.90   ...           88   \n",
      "4              0     166.7        113       28.34   ...          122   \n",
      "\n",
      "   Eve Charge  Night Mins  Night Calls  Night Charge  Intl Mins  Intl Calls  \\\n",
      "0       16.78       244.7           91         11.01       10.0           3   \n",
      "1       16.62       254.4          103         11.45       13.7           3   \n",
      "2       10.30       162.6          104          7.32       12.2           5   \n",
      "3        5.26       196.9           89          8.86        6.6           7   \n",
      "4       12.61       186.9          121          8.41       10.1           3   \n",
      "\n",
      "   Intl Charge  CustServ Calls  Churn?  \n",
      "0         2.70               1  False.  \n",
      "1         3.70               1  False.  \n",
      "2         3.29               0  False.  \n",
      "3         1.78               2  False.  \n",
      "4         2.73               3  False.  \n",
      "\n",
      "[5 rows x 21 columns]\n"
     ]
    }
   ],
   "source": [
    "url_name = \"https://raw.githubusercontent.com/3Blades/notebook-templates/master/python/marketing/churndata.csv\"\n",
    "request=requests.get(url_name).content\n",
    "churn_data = pd.read_csv(io.StringIO(request.decode('utf-8')))\n",
    "print(churn_data.head())"
   ]
  },
  {
   "cell_type": "markdown",
   "metadata": {},
   "source": [
    "## Data Cleaning\n",
    "In this phase, we're going to clean the data to make it look a bit prettier. Some of the columns probably aren't going to be helpful in the long term and some of the columns need to be converted into numerical formats so that they can be inputted into sklearn and other machine learning model types."
   ]
  },
  {
   "cell_type": "code",
   "execution_count": 3,
   "metadata": {},
   "outputs": [
    {
     "name": "stdout",
     "output_type": "stream",
     "text": [
      "  State  Account Length  Area Code  Int'l Plan  VMail Plan  VMail Message  \\\n",
      "0    KS        0.676489        415           0           1       1.234883   \n",
      "1    OH        0.149065        415           0           1       1.307948   \n",
      "2    NJ        0.902529        415           0           0      -0.591760   \n",
      "3    OH       -0.428590        408           1           0      -0.591760   \n",
      "4    OK       -0.654629        415           1           0      -0.591760   \n",
      "\n",
      "   Day Mins  Day Calls  Day Charge  Eve Mins  Eve Calls  Eve Charge  \\\n",
      "0  1.566767   0.476643    1.567036 -0.070610  -0.055940   -0.070427   \n",
      "1 -0.333738   1.124503   -0.334013 -0.108080   0.144867   -0.107549   \n",
      "2  1.168304   0.675985    1.168464 -1.573383   0.496279   -1.573900   \n",
      "3  2.196596  -1.466936    2.196759 -2.742865  -0.608159   -2.743268   \n",
      "4 -0.240090   0.626149   -0.240041 -1.038932   1.098699   -1.037939   \n",
      "\n",
      "   Night Mins  Night Calls  Night Charge  Intl Mins  Intl Calls  Intl Charge  \\\n",
      "0    0.866743    -0.465494      0.866029  -0.085008   -0.601195    -0.085690   \n",
      "1    1.058571     0.147825      1.059390   1.240482   -0.601195     1.241169   \n",
      "2   -0.756869     0.198935     -0.755571   0.703121    0.211534     0.697156   \n",
      "3   -0.078551    -0.567714     -0.078806  -1.303026    1.024263    -1.306401   \n",
      "4   -0.276311     1.067803     -0.276562  -0.049184   -0.601195    -0.045885   \n",
      "\n",
      "   CustServ Calls  Churn  \n",
      "0       -0.427932      0  \n",
      "1       -0.427932      0  \n",
      "2       -1.188218      0  \n",
      "3        0.332354      0  \n",
      "4        1.092641      0  \n"
     ]
    }
   ],
   "source": [
    "# Let's now \n",
    "# First, we need to clean each column, including the column names\n",
    "churn_exp = churn_data.copy()\n",
    "churn_exp.rename(columns={'Churn?': 'Churn'}, inplace=True)\n",
    "\n",
    "# Now, you have to clean the columns\n",
    "churn_exp.loc[:, 'Churn'] = churn_exp.loc[:, 'Churn'].map(lambda x: re.sub('[.]',\n",
    "    '', x))\n",
    "\n",
    "# Now we need to convert the columns to something more usable. You also would need to know what columns need to be changed, \n",
    "# which can be a chore if you have hundreds of rows of data.\n",
    "\n",
    "churn_exp.loc[:, 'VMail Plan'].replace('yes', 1, inplace=True)\n",
    "churn_exp.loc[:, 'VMail Plan'].replace('no', 0, inplace=True)\n",
    "churn_exp.loc[:, 'Int\\'l Plan'].replace('yes', 1, inplace=True)\n",
    "churn_exp.loc[:, 'Int\\'l Plan'].replace('no', 0, inplace=True)\n",
    "\n",
    "# Now, we have to change the labels that we have to predict:\n",
    "\n",
    "churn_exp.loc[:, 'Churn'].replace('False', 0, inplace=True)\n",
    "churn_exp.loc[:, 'Churn'].replace('True', 1, inplace=True)\n",
    "\n",
    "# We now have to find and standardize the columns of the data for the algorithms like Logistic Regression.\n",
    "\n",
    "from sklearn.preprocessing import StandardScaler\n",
    "standard_scaler = StandardScaler() # Assume .25, .75 quantiles\n",
    "# This will be a hard part.... \n",
    "# Also, it gives you a way to focus on what's important instead of being bombarded with a bunch of information at once. \n",
    "churn_exp[['Account Length', 'VMail Message', 'Day Mins', 'Day Calls', \n",
    "         'Day Charge', 'Eve Calls', 'Eve Charge', 'Night Mins', 'Eve Mins' ,\n",
    "         'Night Calls', 'Night Charge', 'Intl Mins', 'Intl Calls', \n",
    "         'Intl Charge', 'CustServ Calls']] =  StandardScaler().fit_transform(churn_exp[['Account Length', 'VMail Message',\n",
    "                                                                                        'Day Mins', 'Day Calls', \n",
    "         'Day Charge', 'Eve Calls', 'Eve Charge', 'Night Mins', 'Eve Mins',\n",
    "         'Night Calls', 'Night Charge', 'Intl Mins', 'Intl Calls', \n",
    "         'Intl Charge', 'CustServ Calls']])\n",
    "\n",
    "# Now, because each phone number is unique, we can simply drop it.\n",
    "churn_exp.drop('Phone', axis=1, inplace=True)\n",
    "print(churn_exp.head())"
   ]
  },
  {
   "cell_type": "markdown",
   "metadata": {
    "extensions": {
     "jupyter_dashboards": {
      "version": 1,
      "views": {
       "grid_default": {
        "col": 0,
        "height": 5,
        "hidden": false,
        "row": 42,
        "width": 12
       },
       "report_default": {
        "hidden": false
       }
      }
     }
    }
   },
   "source": [
    "## Feature Engineering\n",
    "Normally, a data scientist would conduct exploratory data analysis in order to find out more information about the customer base. In this example, we're going to go straight into the prediction phase and attempt to make the customer base machine learning ready (the exploratory phase is covered in the Churn Plotly Notebook).  One of the most important parts of the data scientist's workflow is that we have to create the right features for us to input into the machine learning algorithm. The idea is that we have to ensure that the features are in the correct format while also maximizing information and minimizing the number of features to avoid curse of dimensionality problems with the data. Right now, we're attmepting to maxim"
   ]
  },
  {
   "cell_type": "code",
   "execution_count": 4,
   "metadata": {
    "extensions": {
     "jupyter_dashboards": {
      "version": 1,
      "views": {
       "grid_default": {
        "col": 0,
        "height": 12,
        "hidden": false,
        "row": 18,
        "width": 4
       },
       "report_default": {
        "hidden": true
       }
      }
     }
    },
    "scrolled": true
   },
   "outputs": [
    {
     "name": "stdout",
     "output_type": "stream",
     "text": [
      "     State  Account Length  Area Code  Int'l Plan  VMail Plan  VMail Message  \\\n",
      "0       KS        0.676489        415           0           1       1.234883   \n",
      "1       OH        0.149065        415           0           1       1.307948   \n",
      "2       NJ        0.902529        415           0           0      -0.591760   \n",
      "3       OH       -0.428590        408           1           0      -0.591760   \n",
      "4       OK       -0.654629        415           1           0      -0.591760   \n",
      "5       AL        0.425335        510           1           0      -0.591760   \n",
      "6       MA        0.500681        510           0           1       1.161817   \n",
      "7       MO        1.153683        415           1           0      -0.591760   \n",
      "8       LA        0.400220        408           0           0      -0.591760   \n",
      "9       WV        1.002990        415           1           1       2.111671   \n",
      "10      IN       -0.905784        415           0           0      -0.591760   \n",
      "11      RI       -0.679745        415           0           0      -0.591760   \n",
      "12      IA        1.681107        408           0           0      -0.591760   \n",
      "13      MT       -0.152320        510           0           0      -0.591760   \n",
      "14      IA       -0.981130        415           0           0      -0.591760   \n",
      "15      NY        1.505299        415           0           0      -0.591760   \n",
      "16      ID       -0.403475        408           0           1       1.381014   \n",
      "17      VT       -0.202551        510           0           0      -0.591760   \n",
      "18      VA       -0.629514        510           0           1       1.819408   \n",
      "19      TX       -0.704860        415           0           0      -0.591760   \n",
      "20      FL        1.153683        415           0           0      -0.591760   \n",
      "21      CO       -0.604398        408           0           0      -0.591760   \n",
      "22      AZ        0.726720        415           0           0      -0.591760   \n",
      "23      SC        0.249527        415           0           0      -0.591760   \n",
      "24      VA        0.776951        510           0           0      -0.591760   \n",
      "25      NE        1.831800        415           0           0      -0.591760   \n",
      "26      WY       -1.106707        408           0           1       2.257803   \n",
      "27      MT       -1.182054        408           0           0      -0.591760   \n",
      "28      MO       -2.035979        415           0           0      -0.591760   \n",
      "29      HI       -1.307631        510           0           0      -0.591760   \n",
      "...    ...             ...        ...         ...         ...            ...   \n",
      "3303    WI        0.324873        415           0           1       1.307948   \n",
      "3304    IL       -0.755091        510           1           0      -0.591760   \n",
      "3305    IN       -1.081592        415           0           1       1.015686   \n",
      "3306    AL        0.123950        408           0           1       1.527146   \n",
      "3307    OK        1.781569        408           0           0      -0.591760   \n",
      "3308    IA       -1.408093        415           0           0      -0.591760   \n",
      "3309    VT       -0.026743        408           1           0      -0.591760   \n",
      "3310    NY       -0.177436        415           0           0      -0.591760   \n",
      "3311    LA        0.676489        415           0           0      -0.591760   \n",
      "3312    SC        2.007608        408           0           0      -0.591760   \n",
      "3313    ID        0.651374        408           0           0      -0.591760   \n",
      "3314    MO       -0.303013        415           0           0      -0.591760   \n",
      "3315    ME        1.203914        415           0           1       0.723423   \n",
      "3316    MS        0.048603        510           0           1       1.527146   \n",
      "3317    SD        1.555530        415           1           0      -0.591760   \n",
      "3318    OK       -1.232285        415           0           0      -0.591760   \n",
      "3319    WY       -0.303013        415           0           0      -0.591760   \n",
      "3320    GA        0.525797        510           1           0      -0.591760   \n",
      "3321    VT       -1.031361        415           0           0      -0.591760   \n",
      "3322    MD       -0.981130        408           0           0      -0.591760   \n",
      "3323    IN        0.400220        415           0           0      -0.591760   \n",
      "3324    WV        1.455068        415           0           0      -0.591760   \n",
      "3325    OH       -0.579283        408           0           0      -0.591760   \n",
      "3326    OH       -0.127205        415           0           0      -0.591760   \n",
      "3327    SC       -0.554168        415           0           0      -0.591760   \n",
      "3328    AZ        2.283878        415           0           1       2.038605   \n",
      "3329    WV       -0.830437        415           0           0      -0.591760   \n",
      "3330    RI       -1.835055        510           0           0      -0.591760   \n",
      "3331    CT        2.082955        510           1           0      -0.591760   \n",
      "3332    TN       -0.679745        415           0           1       1.234883   \n",
      "\n",
      "      Day Mins  Day Calls  Day Charge  Eve Mins  Eve Calls  Eve Charge  \\\n",
      "0     1.566767   0.476643    1.567036 -0.070610  -0.055940   -0.070427   \n",
      "1    -0.333738   1.124503   -0.334013 -0.108080   0.144867   -0.107549   \n",
      "2     1.168304   0.675985    1.168464 -1.573383   0.496279   -1.573900   \n",
      "3     2.196596  -1.466936    2.196759 -2.742865  -0.608159   -2.743268   \n",
      "4    -0.240090   0.626149   -0.240041 -1.038932   1.098699   -1.037939   \n",
      "5     0.801056  -0.121381    0.801216  0.386928   0.044463    0.386648   \n",
      "6     0.705572  -0.619735    0.705083  2.909300   0.395875    2.908677   \n",
      "7    -0.418205  -1.068253   -0.418264 -1.930341  -0.306949   -1.931206   \n",
      "8     0.086760  -0.171217    0.087242  2.970436  -1.009773    2.971322   \n",
      "9     1.447412  -0.819076    1.447141  0.414538   0.546480    0.414490   \n",
      "10   -0.930515   1.822198   -0.930251  0.542727  -0.859168    0.542099   \n",
      "11    0.145520   1.323844    0.145570 -0.741139   2.403944   -0.740957   \n",
      "12   -0.936023  -0.221052   -0.935652 -1.894843  -1.461588   -1.894084   \n",
      "13   -0.425550  -0.619735   -0.425825  0.919407  -1.260782    0.920288   \n",
      "14   -1.084758  -1.516771   -1.084711  2.094805  -1.210580    2.094296   \n",
      "15    2.811735  -1.666277    2.811359  2.303852  -0.156344    2.303112   \n",
      "16    0.305273   1.921869    0.305431  1.576131  -0.507756    1.576897   \n",
      "17    0.200607   0.675985    0.200657  0.339596   0.546480    0.340244   \n",
      "18    0.182245  -1.716113    0.182295  0.233101  -1.762799    0.233516   \n",
      "19    0.819419  -0.520064    0.819578 -0.818052  -0.608159   -0.817523   \n",
      "20   -0.453093   0.825491   -0.452829  0.763607  -0.357151    0.762516   \n",
      "21   -2.155284  -0.569899   -2.155132 -0.612949   1.048497   -0.613347   \n",
      "22    0.059217   0.576314    0.059159 -2.525929  -0.055940   -2.525171   \n",
      "23   -1.273891   0.127796   -1.273736 -1.255868   0.094665   -1.256036   \n",
      "24   -1.811908  -0.719406   -1.811647  0.872075  -1.411387    0.871564   \n",
      "25   -1.018654  -1.217759   -1.018823  1.501189   0.596682    1.500331   \n",
      "26    0.610088   0.725820    0.610031 -0.194855   0.596682   -0.195716   \n",
      "27   -0.835030  -1.367265   -0.835199 -0.896938  -0.005739   -0.896409   \n",
      "28    0.187753   0.426808    0.187695  1.128454  -0.808966    1.129103   \n",
      "29   -1.110466   0.825491   -1.110635  0.278460   0.446077    0.277599   \n",
      "...        ...        ...         ...       ...        ...         ...   \n",
      "3303 -0.783616  -0.619735   -0.783352 -0.892994   1.249304   -0.894089   \n",
      "3304  0.116140   0.675985    0.116406 -0.046944   2.002330   -0.047225   \n",
      "3305  0.813910   1.323844    0.814178  0.745858  -0.758764    0.746275   \n",
      "3306 -1.766002   1.523186   -1.766281  0.057580   1.550515    0.057183   \n",
      "3307  0.442990   0.426808    0.442609  0.651195   1.148901    0.651148   \n",
      "3308  0.578872  -0.669570    0.578707 -0.695779  -0.156344   -0.696874   \n",
      "3309  0.727607   0.576314    0.727766  0.487507   0.094665    0.486415   \n",
      "3310  0.195098  -0.470229    0.195256 -2.149249   0.345673   -2.149303   \n",
      "3311 -0.588975  -0.320723   -0.588926  1.623462  -0.859168    1.623301   \n",
      "3312  0.920412   1.473350    0.920031 -1.115846  -0.357151   -1.116825   \n",
      "3313 -1.413445   1.373680   -1.413074 -1.129651  -0.256747   -1.130746   \n",
      "3314 -0.019741  -0.968582   -0.019692  0.645279  -1.310983    0.644187   \n",
      "3315 -0.574285   0.277302   -0.573804 -1.705517   0.295472   -1.706150   \n",
      "3316 -0.287832   0.526479   -0.287567  0.357346  -0.206546    0.356485   \n",
      "3317  0.319962  -0.520064    0.319473 -0.246130   0.646884   -0.246760   \n",
      "3318 -1.007637   1.523186   -1.008021  1.962671   0.897892    1.962046   \n",
      "3319 -1.182079  -0.071546   -1.181924  0.175908   0.747287    0.175512   \n",
      "3320 -0.730365   0.028125   -0.730425 -0.090331  -1.160378   -0.091308   \n",
      "3321  0.259367   0.875326    0.258985 -2.287299   0.496279   -2.286193   \n",
      "3322  2.595059   0.227466    2.595331  1.272420   1.098699    1.272954   \n",
      "3323 -1.126992   1.274009   -1.126837  0.952933  -0.156344    0.952770   \n",
      "3324 -0.183166   0.675985   -0.182793 -0.064693   0.245270   -0.065786   \n",
      "3325  0.250185  -0.071546    0.250344 -1.658186  -0.608159   -1.657426   \n",
      "3326 -1.343668   1.373680   -1.343945  1.653044  -0.658361    1.653463   \n",
      "3327 -0.827685  -0.121381   -0.827638 -0.222465  -1.612194   -0.223558   \n",
      "3328 -0.432895  -1.167924   -0.433386  0.286348   1.299506    0.286880   \n",
      "3329  0.942447  -2.164631    0.942714 -0.938353  -2.264816   -0.938172   \n",
      "3330  0.018820   0.426808    0.019193  1.731930  -2.114211    1.732349   \n",
      "3331  0.624778   0.227466    0.625153 -0.816080  -0.808966   -0.815203   \n",
      "3332  1.003042   0.626149    1.003202  1.280309  -0.909370    1.279915   \n",
      "\n",
      "      Night Mins  Night Calls  Night Charge  Intl Mins  Intl Calls  \\\n",
      "0       0.866743    -0.465494      0.866029  -0.085008   -0.601195   \n",
      "1       1.058571     0.147825      1.059390   1.240482   -0.601195   \n",
      "2      -0.756869     0.198935     -0.755571   0.703121    0.211534   \n",
      "3      -0.078551    -0.567714     -0.078806  -1.303026    1.024263   \n",
      "4      -0.276311     1.067803     -0.276562  -0.049184   -0.601195   \n",
      "5       0.059881     0.914473      0.061821  -1.410498    0.617898   \n",
      "6       0.231933     0.914473      0.233209  -0.980610    1.024263   \n",
      "7       0.216112    -0.209945      0.215631  -1.123906    0.617898   \n",
      "8       0.295216    -0.516604      0.294733  -0.550721   -0.194831   \n",
      "9       2.482445    -0.158835      2.483233   0.344880    0.211534   \n",
      "10      0.156784     0.556704      0.158501   0.882241    0.617898   \n",
      "11     -0.096350    -0.312165     -0.096384  -0.407425    0.211534   \n",
      "12     -1.182054     1.425573     -1.181845   0.344880   -1.007560   \n",
      "13     -0.169521     0.761144     -0.171092   0.738945    0.211534   \n",
      "14      0.042083    -0.056615      0.044242   1.025537    0.617898   \n",
      "15     -0.796421     1.425573     -0.795122  -1.732915    1.836992   \n",
      "16     -2.206452    -1.283253     -2.205781   1.276306   -0.194831   \n",
      "17     -1.409478     1.067803     -1.410363  -0.765665   -0.601195   \n",
      "18     -0.695563     0.403374     -0.694047  -0.085008    0.211534   \n",
      "19     -0.159633    -1.334363     -0.157908   0.989713   -1.007560   \n",
      "20      0.156784     1.681122      0.158501   0.129936   -0.194831   \n",
      "21      0.172604    -1.845462      0.171685  -1.625442    0.617898   \n",
      "22     -0.377169    -1.129923     -0.377637  -0.264128    5.900637   \n",
      "23     -0.222916     0.250045     -0.223827  -0.908961    0.617898   \n",
      "24      0.714468     0.761144      0.716613   0.022464   -1.007560   \n",
      "25      0.985399     0.761144      0.984682   1.885315    0.211534   \n",
      "26     -0.359371     0.761144     -0.360059  -0.264128   -0.601195   \n",
      "27     -1.953319    -1.641023     -1.955291   1.598722   -0.194831   \n",
      "28     -0.383102     0.096715     -0.382032  -1.410498    0.617898   \n",
      "29     -0.438475    -0.516604     -0.439161   0.309056   -1.413924   \n",
      "...          ...          ...           ...        ...         ...   \n",
      "3303    0.924094    -0.312165      0.923158   0.452353    1.024263   \n",
      "3304    0.111299    -1.027703      0.110161   1.276306    0.211534   \n",
      "3305   -0.527467    -0.721044     -0.527053   0.452353    1.024263   \n",
      "3306    0.566148    -1.385473      0.567197  -0.765665   -0.601195   \n",
      "3307   -0.794444    -1.794352     -0.795122   2.709268   -0.194831   \n",
      "3308    1.285995    -1.436583      1.287908   1.097185    0.617898   \n",
      "3309    1.076369    -0.261055      1.076968   0.631473   -0.194831   \n",
      "3310    0.473200     0.403374      0.474911   1.204658    5.087908   \n",
      "3311   -0.248625     1.221133     -0.250194  -1.195554    0.211534   \n",
      "3312    1.216779     0.505594      1.217595   1.419602   -0.194831   \n",
      "3313   -0.187319    -0.158835     -0.188670  -0.085008    0.211534   \n",
      "3314   -1.363993     1.016693     -1.362022  -0.407425   -0.194831   \n",
      "3315   -0.446385    -0.107725     -0.447950  -1.338850   -0.194831   \n",
      "3316    0.384208     0.403374      0.382625   0.738945    1.836992   \n",
      "3317    0.202269    -0.312165      0.202447  -0.873137    1.430627   \n",
      "3318   -0.165566     0.301154     -0.166697   0.488177   -0.194831   \n",
      "3319    1.582636     0.607814      1.582345   2.028611    0.617898   \n",
      "3320   -1.597350     1.681122     -1.599330  -0.192480   -0.194831   \n",
      "3321    0.182492     1.732232      0.180474   1.061361    1.430627   \n",
      "3322   -0.402878    -1.436583     -0.404005   0.452353   -1.007560   \n",
      "3323    0.516707    -2.254342      0.518857   1.204658   -0.601195   \n",
      "3324   -0.141834    -0.925484     -0.140330   0.488177   -0.194831   \n",
      "3325    0.839057     0.454484      0.839661  -0.335777   -0.194831   \n",
      "3326   -0.434520    -0.414384     -0.434767   1.670370    1.024263   \n",
      "3327    0.405962     1.425573      0.404598   0.559825    0.211534   \n",
      "3328    1.547039    -0.874374      1.547188  -0.120832    0.617898   \n",
      "3329   -0.189297     1.170023     -0.188670  -0.228304   -0.194831   \n",
      "3330   -0.177431    -0.465494     -0.175486   1.383778    0.617898   \n",
      "3331   -1.219628     1.885562     -1.221396  -1.876211    2.243356   \n",
      "3332    0.801482    -1.181033      0.800110   1.240482   -0.194831   \n",
      "\n",
      "      Intl Charge  CustServ Calls  Churn  \n",
      "0       -0.085690       -0.427932      0  \n",
      "1        1.241169       -0.427932      0  \n",
      "2        0.697156       -1.188218      0  \n",
      "3       -1.306401        0.332354      0  \n",
      "4       -0.045885        1.092641      0  \n",
      "5       -1.412550       -1.188218      0  \n",
      "6       -0.974686        1.092641      0  \n",
      "7       -1.120641       -1.188218      0  \n",
      "8       -0.550091       -0.427932      0  \n",
      "9        0.338904       -1.188218      0  \n",
      "10       0.882917        1.852927      1  \n",
      "11      -0.404137       -1.188218      0  \n",
      "12       0.338904       -0.427932      0  \n",
      "13       0.736962        1.092641      0  \n",
      "14       1.028871        1.852927      0  \n",
      "15      -1.730996        1.852927      1  \n",
      "16       1.280974       -0.427932      0  \n",
      "17      -0.762389        1.092641      0  \n",
      "18      -0.085690       -0.427932      0  \n",
      "19       0.989065       -0.427932      0  \n",
      "20       0.126607       -1.188218      0  \n",
      "21      -1.624847        2.613214      1  \n",
      "22      -0.258182       -1.188218      0  \n",
      "23      -0.908343        0.332354      0  \n",
      "24       0.020458       -1.188218      0  \n",
      "25       1.891330        1.092641      0  \n",
      "26      -0.258182       -1.188218      0  \n",
      "27       1.599421        1.092641      0  \n",
      "28      -1.412550       -1.188218      0  \n",
      "29       0.312367       -0.427932      0  \n",
      "...           ...             ...    ...  \n",
      "3303     0.458322        0.332354      0  \n",
      "3304     1.280974        1.852927      1  \n",
      "3305     0.458322        0.332354      0  \n",
      "3306    -0.762389       -0.427932      0  \n",
      "3307     2.713982        1.852927      0  \n",
      "3308     1.095214       -0.427932      0  \n",
      "3309     0.630813        1.852927      0  \n",
      "3310     1.201363        0.332354      0  \n",
      "3311    -1.200252        0.332354      0  \n",
      "3312     1.413660        0.332354      0  \n",
      "3313    -0.085690       -0.427932      0  \n",
      "3314    -0.404137       -0.427932      0  \n",
      "3315    -1.332938       -1.188218      0  \n",
      "3316     0.736962       -1.188218      0  \n",
      "3317    -0.868537       -0.427932      0  \n",
      "3318     0.484859        0.332354      0  \n",
      "3319     2.024015        1.092641      0  \n",
      "3320    -0.191839        1.852927      1  \n",
      "3321     1.055408        1.092641      0  \n",
      "3322     0.458322        1.852927      1  \n",
      "3323     1.201363        2.613214      1  \n",
      "3324     0.484859       -0.427932      0  \n",
      "3325    -0.337794        0.332354      0  \n",
      "3326     1.665764       -0.427932      0  \n",
      "3327     0.564470        0.332354      0  \n",
      "3328    -0.125496        0.332354      0  \n",
      "3329    -0.231645        1.092641      0  \n",
      "3330     1.387123        0.332354      0  \n",
      "3331    -1.876950        0.332354      0  \n",
      "3332     1.241169       -1.188218      0  \n",
      "\n",
      "[3333 rows x 20 columns]\n"
     ]
    },
    {
     "name": "stdout",
     "output_type": "stream",
     "text": [
      "   Account Length  Int'l Plan  VMail Plan  VMail Message  Day Mins  Day Calls  \\\n",
      "0        0.676489           0           1       1.234883  1.566767   0.476643   \n",
      "1        0.149065           0           1       1.307948 -0.333738   1.124503   \n",
      "2        0.902529           0           0      -0.591760  1.168304   0.675985   \n",
      "3       -0.428590           1           0      -0.591760  2.196596  -1.466936   \n",
      "4       -0.654629           1           0      -0.591760 -0.240090   0.626149   \n",
      "\n",
      "   Day Charge  Eve Mins  Eve Calls  Eve Charge       ...        KY  ME  MS  \\\n",
      "0    1.567036 -0.070610  -0.055940   -0.070427       ...         0   0   0   \n",
      "1   -0.334013 -0.108080   0.144867   -0.107549       ...         0   0   0   \n",
      "2    1.168464 -1.573383   0.496279   -1.573900       ...         0   0   0   \n",
      "3    2.196759 -2.742865  -0.608159   -2.743268       ...         0   0   0   \n",
      "4   -0.240041 -1.038932   1.098699   -1.037939       ...         0   0   0   \n",
      "\n",
      "   TN  PA  CT  ND  Area Code: 415  Area Code: 408  Area Code: 510  \n",
      "0   0   0   0   0               1               0               0  \n",
      "1   0   0   0   0               1               0               0  \n",
      "2   0   0   0   0               1               0               0  \n",
      "3   0   0   0   0               0               1               0  \n",
      "4   0   0   0   0               1               0               0  \n",
      "\n",
      "[5 rows x 72 columns]\n"
     ]
    }
   ],
   "source": [
    "# First we have to do something about the states. Do let's convert them to dummy variables.\n",
    "import sys\n",
    "print(churn_exp)\n",
    "state_columns = churn_exp['State'].unique()\n",
    "for state in state_columns:\n",
    "    churn_exp.loc[:, state] = (churn_exp.loc[:, 'State'] == state).astype('int')\n",
    "churn_exp.drop('State', axis=1, inplace=True)\n",
    "\n",
    "# You would also have to do something with area codes as well\n",
    "area_code_columns = churn_exp['Area Code'].unique()\n",
    "for area_code in area_code_columns:\n",
    "    churn_exp.loc[:, 'Area Code: ' + str(area_code)] = (churn_exp.loc[:, 'Area Code'] == area_code).astype('int')\n",
    "churn_exp.drop('Area Code', axis=1, inplace=True)\n",
    "\n",
    "# Now, we need to rename the column name.\n",
    "churn_exp.rename(columns={'Churn?' : \"Churn\"}, inplace=True)\n",
    "print(churn_exp.head())"
   ]
  },
  {
   "cell_type": "markdown",
   "metadata": {
    "extensions": {
     "jupyter_dashboards": {
      "version": 1,
      "views": {
       "grid_default": {
        "col": 4,
        "height": 4,
        "hidden": false,
        "row": 18,
        "width": 4
       },
       "report_default": {
        "hidden": false
       }
      }
     }
    }
   },
   "source": [
    "## Model Development"
   ]
  },
  {
   "cell_type": "code",
   "execution_count": 37,
   "metadata": {
    "extensions": {
     "jupyter_dashboards": {
      "version": 1,
      "views": {
       "grid_default": {
        "col": 0,
        "height": 26,
        "hidden": false,
        "row": 51,
        "width": 4
       },
       "report_default": {
        "hidden": true
       }
      }
     }
    },
    "scrolled": true
   },
   "outputs": [
    {
     "data": {
      "text/html": [
       "<div>\n",
       "<table border=\"1\" class=\"dataframe\">\n",
       "  <thead>\n",
       "    <tr style=\"text-align: right;\">\n",
       "      <th></th>\n",
       "      <th>Algorithm Name</th>\n",
       "      <th>Cross Validation Error</th>\n",
       "      <th>Accuracy</th>\n",
       "      <th>F1 Scores</th>\n",
       "      <th>Roc Auc Score</th>\n",
       "      <th>Precision</th>\n",
       "      <th>Recall</th>\n",
       "    </tr>\n",
       "  </thead>\n",
       "  <tbody>\n",
       "    <tr>\n",
       "      <th>0</th>\n",
       "      <td>Decision Trees</td>\n",
       "      <td>0.827032</td>\n",
       "      <td>0.914414</td>\n",
       "      <td>0.719212</td>\n",
       "      <td>0.827830</td>\n",
       "      <td>0.737374</td>\n",
       "      <td>0.701923</td>\n",
       "    </tr>\n",
       "    <tr>\n",
       "      <th>1</th>\n",
       "      <td>Logistic Regression</td>\n",
       "      <td>0.800488</td>\n",
       "      <td>0.849850</td>\n",
       "      <td>0.264706</td>\n",
       "      <td>0.574083</td>\n",
       "      <td>0.562500</td>\n",
       "      <td>0.173077</td>\n",
       "    </tr>\n",
       "    <tr>\n",
       "      <th>2</th>\n",
       "      <td>Random Forests</td>\n",
       "      <td>0.891966</td>\n",
       "      <td>0.914414</td>\n",
       "      <td>0.641509</td>\n",
       "      <td>0.741634</td>\n",
       "      <td>0.927273</td>\n",
       "      <td>0.490385</td>\n",
       "    </tr>\n",
       "    <tr>\n",
       "      <th>3</th>\n",
       "      <td>K Nearest Neighbors</td>\n",
       "      <td>0.774736</td>\n",
       "      <td>0.876877</td>\n",
       "      <td>0.388060</td>\n",
       "      <td>0.621441</td>\n",
       "      <td>0.866667</td>\n",
       "      <td>0.250000</td>\n",
       "    </tr>\n",
       "  </tbody>\n",
       "</table>\n",
       "</div>"
      ],
      "text/plain": [
       "        Algorithm Name  Cross Validation Error  Accuracy  F1 Scores  \\\n",
       "0       Decision Trees                0.827032  0.914414   0.719212   \n",
       "1  Logistic Regression                0.800488  0.849850   0.264706   \n",
       "2       Random Forests                0.891966  0.914414   0.641509   \n",
       "3  K Nearest Neighbors                0.774736  0.876877   0.388060   \n",
       "\n",
       "   Roc Auc Score  Precision    Recall  \n",
       "0       0.827830   0.737374  0.701923  \n",
       "1       0.574083   0.562500  0.173077  \n",
       "2       0.741634   0.927273  0.490385  \n",
       "3       0.621441   0.866667  0.250000  "
      ]
     },
     "metadata": {},
     "output_type": "display_data"
    },
    {
     "data": {
      "image/png": "[encoded data removed]",
      "text/plain": [
       "<matplotlib.figure.Figure at 0x278ea738320>"
      ]
     },
     "metadata": {},
     "output_type": "display_data"
    }
   ],
   "source": [
    "from IPython.display import display, HTML\n",
    "\n",
    "# Split the data between training and testing data.\n",
    "churn_exp = shuffle(churn_exp)\n",
    "cutoff_x = int(churn_exp.shape[0]*.80) # We assume an 80% split\n",
    "start_y = cutoff_x + 1\n",
    "X_train = churn_exp.drop('Churn', axis=1, inplace=False).iloc[0:cutoff_x, :]\n",
    "Y_train = churn_exp['Churn'][0:cutoff_x]\n",
    "X_test = churn_exp.drop('Churn', axis=1, inplace=False).iloc[start_y:, :]\n",
    "Y_test = churn_exp['Churn'][start_y:]\n",
    "\n",
    "# Score Matrices\n",
    "score_matrix = pd.DataFrame(columns=['Algorithm Name', 'Cross Validation Error', \n",
    "                                     'Accuracy', 'F1 Scores', 'Roc Auc Score', 'Precision', 'Recall'])\n",
    "\n",
    "# Decision Trees\n",
    "from sklearn import tree\n",
    "DT = tree.DecisionTreeClassifier()\n",
    "# The score difference between the highest and lowest model is X_score\n",
    "# Based on 3 different criteria, the average difference between the average \n",
    "DT.fit(X_train, Y_train)\n",
    "Y_pred = DT.predict(X_test)\n",
    "score_matrix.loc[0] = ['Decision Trees', np.mean(cross_val_score(DT, X_train, Y_train, scoring='roc_auc', cv=10)), \n",
    "                       accuracy_score(Y_test, Y_pred), f1_score(Y_test, Y_pred), roc_auc_score(Y_test, Y_pred), \n",
    "                       precision_score(Y_test, Y_pred),recall_score(Y_test, Y_pred)]\n",
    "\n",
    "objects = (\"Accuracy\", \"F1 Score\", \"Roc Auc Curve\", \"Precision\", \"Recall\")\n",
    "performance = [accuracy_score(Y_test, Y_pred), f1_score(Y_test, Y_pred), roc_auc_score(Y_test, Y_pred),\n",
    "    precision_score(Y_test, Y_pred), recall_score(Y_test, Y_pred)]\n",
    "\n",
    "\"\"\"\n",
    "# For those that prefer Matplotlib instead\n",
    "plt.bar(y_pos, performance, align='center', alpha=0.5)\n",
    "plt.xticks(y_pos, objects)\n",
    "plt.ylabel('Usage')\n",
    "plt.title(\"Decision Trees\")\n",
    "plt.show()\n",
    "\"\"\"\n",
    "\n",
    "\n",
    "# Logsitic Regression\n",
    "from sklearn.linear_model import LogisticRegression\n",
    "logistic = LogisticRegression(penalty='l2', C=1e5)\n",
    "logistic.fit(X_train, Y_train)\n",
    "Y_pred = logistic.predict(X_test)\n",
    "score_matrix.loc[1] = ['Logistic Regression', np.mean(cross_val_score(logistic, X_train, Y_train, scoring='roc_auc', cv=10)), \n",
    "                       accuracy_score(Y_test, Y_pred), f1_score(Y_test, Y_pred), roc_auc_score(Y_test, Y_pred), \n",
    "                       precision_score(Y_test, Y_pred),recall_score(Y_test, Y_pred)]\n",
    "\n",
    "objects = (\"Accuracy\", \"F1 Score\", \"Roc Auc Curve\", \"Precision\", \"Recall\")\n",
    "y_pos = np.arange(len(objects))\n",
    "performance = [accuracy_score(Y_test, Y_pred), f1_score(Y_test, Y_pred), roc_auc_score(Y_test, Y_pred),\n",
    "    precision_score(Y_test, Y_pred), recall_score(Y_test, Y_pred)]\n",
    "\n",
    "\"\"\"\n",
    "# For those that prefer Matplotlib instead\n",
    "plt.bar(y_pos, performance, align='center', alpha=0.5)\n",
    "plt.xticks(y_pos, objects)\n",
    "plt.ylabel('Usage')\n",
    "plt.title(\"Logistic Regression\")\n",
    "plt.show()\n",
    "\"\"\"\n",
    "\n",
    "# Random Forests\n",
    "from sklearn.ensemble import RandomForestClassifier\n",
    "rf = RandomForestClassifier(n_estimators=10)\n",
    "rf.fit(X_train, Y_train)\n",
    "Y_pred = rf.predict(X_test)\n",
    "score_matrix.loc[2] = ['Random Forests', np.mean(cross_val_score(rf, X_train, Y_train, scoring='roc_auc', cv=10)), \n",
    "                       accuracy_score(Y_test, Y_pred), f1_score(Y_test, Y_pred), roc_auc_score(Y_test, Y_pred), \n",
    "                       precision_score(Y_test, Y_pred),recall_score(Y_test, Y_pred)]\n",
    "\n",
    "objects = (\"Accuracy\", \"F1 Score\", \"Roc Auc Curve\", \"Precision\", \"Recall\")\n",
    "y_pos = np.arange(len(objects))\n",
    "performance = [accuracy_score(Y_test, Y_pred), f1_score(Y_test, Y_pred), roc_auc_score(Y_test, Y_pred),\n",
    "    precision_score(Y_test, Y_pred), recall_score(Y_test, Y_pred)]\n",
    "\n",
    "\"\"\"\n",
    "# For those that prefer Matplotlib instead\n",
    "plt.bar(y_pos, performance, align='center', alpha=0.5)\n",
    "plt.xticks(y_pos, objects)\n",
    "plt.ylabel('Usage')\n",
    "plt.title('Random Forests')\n",
    "plt.show()\n",
    "\"\"\"\n",
    "\n",
    "\n",
    "# K Nearest Neighbors\n",
    "from sklearn.neighbors import KNeighborsClassifier\n",
    "knn = KNeighborsClassifier(n_neighbors=5, weights='uniform')\n",
    "knn.fit(X_train, Y_train)\n",
    "# Find the optimal parameters (Yuo would have to gridsearch or random search them)\n",
    "Y_pred = knn.predict(X_test)\n",
    "objects = (\"Accuracy\", \"F1 Score\", \"Roc Auc Curve\", \"Precision\", \"Recall\")\n",
    "y_pos = np.arange(len(objects))\n",
    "score_matrix.loc[3] = ['K Nearest Neighbors', np.mean(cross_val_score(knn, X_train, Y_train, scoring='roc_auc', cv=10)), \n",
    "                       accuracy_score(Y_test, Y_pred), f1_score(Y_test, Y_pred), roc_auc_score(Y_test, Y_pred), \n",
    "                       precision_score(Y_test, Y_pred),recall_score(Y_test, Y_pred)]\n",
    "\"\"\"\n",
    "# For those that prefer Matplotlib instead\n",
    "plt.bar(y_pos, performance, align='center', alpha=0.5)\n",
    "plt.xticks(y_pos, objects)\n",
    "plt.ylabel('Usage')\n",
    "plt.title(\"K Nearest Neighbors\")\n",
    "plt.show()\n",
    "\"\"\"\n",
    "\n",
    "display(score_matrix)\n",
    "\n",
    "fig, axs = plt.subplots(nrows=3, ncols=2, figsize=(12, 12))\n",
    "\n",
    "ax = sns.barplot(x='Algorithm Name', y=\"Cross Validation Error\", data=score_matrix, ax=axs[0][0])\n",
    "ax.set(ylabel='Score', title='Cross Validation Score')\n",
    "\n",
    "ax2 = sns.barplot(x='Algorithm Name', y=\"Accuracy\", data=score_matrix, ax=axs[0][1])\n",
    "ax2.set(ylabel='Score', title='Accuracy')\n",
    "\n",
    "ax3 = sns.barplot(x='Algorithm Name', y=\"F1 Scores\", data=score_matrix, ax=axs[1][0])\n",
    "ax3.set(ylabel='Score', title='F1 Scores')\n",
    "\n",
    "ax4 = sns.barplot(x='Algorithm Name', y=\"Roc Auc Score\", data=score_matrix, ax=axs[1][1])\n",
    "ax4.set(ylabel='Score', title='Roc Auc Score')\n",
    "\n",
    "ax5 = sns.barplot(x='Algorithm Name', y=\"Precision\", data=score_matrix, ax=axs[2][0])\n",
    "ax5.set(ylabel='Score', title='Precision')\n",
    "\n",
    "ax6 = sns.barplot(x='Algorithm Name', y=\"Recall\", data=score_matrix, ax=axs[2][1])\n",
    "ax6.set(ylabel='Score', title='Recall')\n",
    "\n",
    "fig.tight_layout()"
   ]
  },
  {
   "cell_type": "code",
   "execution_count": null,
   "metadata": {
    "collapsed": true
   },
   "outputs": [],
   "source": []
  }
 ],
 "metadata": {
  "extensions": {
   "jupyter_dashboards": {
    "activeView": "report_default",
    "version": 1,
    "views": {
     "grid_default": {
      "cellMargin": 10,
      "defaultCellHeight": 20,
      "maxColumns": 12,
      "name": "grid",
      "type": "grid"
     },
     "report_default": {
      "name": "report",
      "type": "report"
     }
    }
   }
  },
  "kernelspec": {
   "display_name": "Python 3",
   "language": "python",
   "name": "python3"
  },
  "language_info": {
   "codemirror_mode": {
    "name": "ipython",
    "version": 3
   },
   "file_extension": ".py",
   "mimetype": "text/x-python",
   "name": "python",
   "nbconvert_exporter": "python",
   "pygments_lexer": "ipython3",
   "version": "3.5.3"
  }
 },
 "nbformat": 4,
 "nbformat_minor": 2
}
