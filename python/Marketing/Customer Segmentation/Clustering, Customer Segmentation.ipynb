{
 "cells": [
  {
   "cell_type": "markdown",
   "metadata": {},
   "source": [
    "## Customer Segmentation\n",
    "\n",
    "Customer Segmentation is the process of dividing your customer base into groups of similar characteristics. The idea is that by segmenting customers based on a number of features/characteristics rather than looking at each indvidual feature, you can save your data scientists/analysts' time and get a more global view of how your customers are different. \n",
    "\n",
    "Customer segmentation is usually done to aid the marketing team in their efforts to target these customers with email and promotions in an effort to increase revenue by providing a more personalized experience. The idea is that different customers each have different demands, but trying to meet each individual customer's demand is not scalable over hundreds or usually millions of customers. So finding clusters in your customer base can allow you to customize and cater to the interests of your customer base on a feasible level. You can think of it as a tradeoff between the scalability and personalization for this particular problem. \n",
    "\n",
    "To go into a bit of detail about the algorithm itself, k means attmepts to find clusters via the distance between points. So it clusters by finding points that are mathematically close (Euclidean distance is the metric for all the math heads out there) and assigning them a cluster. "
   ]
  },
  {
   "cell_type": "markdown",
   "metadata": {},
   "source": [
    "### 1. Import Packages"
   ]
  },
  {
   "cell_type": "code",
   "execution_count": 1,
   "metadata": {
    "collapsed": true
   },
   "outputs": [],
   "source": [
    "# Import our favorite data science packages\n",
    "import os\n",
    "import numpy as np\n",
    "import pandas as pd\n",
    "from scipy import stats\n",
    "\n",
    "# Import the libraries needed to import data from UCI into pandas\n",
    "import requests\n",
    "import io\n",
    "\n",
    "# We also will need a list of plotting libraries \n",
    "import seaborn as sns\n",
    "import matplotlib\n",
    "import matplotlib.pyplot as plt\n",
    "\n",
    "plt.style.use('fivethirtyeight')\n",
    "\n",
    "import warnings\n",
    "warnings.filterwarnings('ignore')\n",
    "pd.options.display.max_columns = 100\n",
    "\n",
    "# And this will allow us to see our plots within the Jupyter notebook rather than being taken to an outside window.\n",
    "%matplotlib inline\n",
    "#this is a cool trick to have better looking plots:\n",
    "%config InlineBackend.figure_format = 'retina'"
   ]
  },
  {
   "cell_type": "markdown",
   "metadata": {},
   "source": [
    "### Wholesale Customers Data Set:\n",
    "\n",
    "**The data set refers to clients of a wholesale distributor. It includes the annual spending in monetary units on diverse product categories. For more information, please visit the following website: https://archive.ics.uci.edu/ml/datasets/wholesale+customers**"
   ]
  },
  {
   "cell_type": "markdown",
   "metadata": {},
   "source": [
    "### 2. Data Collection"
   ]
  },
  {
   "cell_type": "code",
   "execution_count": 2,
   "metadata": {},
   "outputs": [
    {
     "data": {
      "text/html": [
       "<div>\n",
       "<table border=\"1\" class=\"dataframe\">\n",
       "  <thead>\n",
       "    <tr style=\"text-align: right;\">\n",
       "      <th></th>\n",
       "      <th>Channel</th>\n",
       "      <th>Region</th>\n",
       "      <th>Fresh</th>\n",
       "      <th>Milk</th>\n",
       "      <th>Grocery</th>\n",
       "      <th>Frozen</th>\n",
       "      <th>Detergents_Paper</th>\n",
       "      <th>Delicassen</th>\n",
       "    </tr>\n",
       "  </thead>\n",
       "  <tbody>\n",
       "    <tr>\n",
       "      <th>0</th>\n",
       "      <td>2</td>\n",
       "      <td>3</td>\n",
       "      <td>12669</td>\n",
       "      <td>9656</td>\n",
       "      <td>7561</td>\n",
       "      <td>214</td>\n",
       "      <td>2674</td>\n",
       "      <td>1338</td>\n",
       "    </tr>\n",
       "    <tr>\n",
       "      <th>1</th>\n",
       "      <td>2</td>\n",
       "      <td>3</td>\n",
       "      <td>7057</td>\n",
       "      <td>9810</td>\n",
       "      <td>9568</td>\n",
       "      <td>1762</td>\n",
       "      <td>3293</td>\n",
       "      <td>1776</td>\n",
       "    </tr>\n",
       "    <tr>\n",
       "      <th>2</th>\n",
       "      <td>2</td>\n",
       "      <td>3</td>\n",
       "      <td>6353</td>\n",
       "      <td>8808</td>\n",
       "      <td>7684</td>\n",
       "      <td>2405</td>\n",
       "      <td>3516</td>\n",
       "      <td>7844</td>\n",
       "    </tr>\n",
       "    <tr>\n",
       "      <th>3</th>\n",
       "      <td>1</td>\n",
       "      <td>3</td>\n",
       "      <td>13265</td>\n",
       "      <td>1196</td>\n",
       "      <td>4221</td>\n",
       "      <td>6404</td>\n",
       "      <td>507</td>\n",
       "      <td>1788</td>\n",
       "    </tr>\n",
       "    <tr>\n",
       "      <th>4</th>\n",
       "      <td>2</td>\n",
       "      <td>3</td>\n",
       "      <td>22615</td>\n",
       "      <td>5410</td>\n",
       "      <td>7198</td>\n",
       "      <td>3915</td>\n",
       "      <td>1777</td>\n",
       "      <td>5185</td>\n",
       "    </tr>\n",
       "  </tbody>\n",
       "</table>\n",
       "</div>"
      ],
      "text/plain": [
       "   Channel  Region  Fresh  Milk  Grocery  Frozen  Detergents_Paper  Delicassen\n",
       "0        2       3  12669  9656     7561     214              2674        1338\n",
       "1        2       3   7057  9810     9568    1762              3293        1776\n",
       "2        2       3   6353  8808     7684    2405              3516        7844\n",
       "3        1       3  13265  1196     4221    6404               507        1788\n",
       "4        2       3  22615  5410     7198    3915              1777        5185"
      ]
     },
     "execution_count": 2,
     "metadata": {},
     "output_type": "execute_result"
    }
   ],
   "source": [
    "# Read data in from the source url\n",
    "url_name = \"https://archive.ics.uci.edu/ml/machine-learning-databases/00292/Wholesale%20customers%20data.csv\"\n",
    "request=requests.get(url_name).content\n",
    "df=pd.read_csv(io.StringIO(request.decode('utf-8')))\n",
    "df.head()"
   ]
  },
  {
   "cell_type": "markdown",
   "metadata": {},
   "source": [
    "**Attribute Information**:\n",
    "\n",
    "1)\tFRESH: annual spending on fresh products (Continuous)\n",
    "\n",
    "2)\tMILK: annual spending on milk products (Continuous)\n",
    "\n",
    "3)\tGROCERY: annual spending on grocery products (Continuous)\n",
    "\n",
    "4)\tFROZEN: annual spending on frozen products (Continuous) \n",
    "\n",
    "5)\tDETERGENTS_PAPER: annual spending on detergents and paper products (Continuous) \n",
    "\n",
    "6)\tDELICATESSEN: annual spending on and delicatessen products (Continuous)\n",
    "\n",
    "7)\tCHANNEL: customers Channel - Horeca (Hotel/Restaurant) or Retail channel (Nominal) \n",
    "\n",
    "8)\tREGION: customers Region Lisabon, Porto or Other (Nominal) \n",
    "\n",
    "\n",
    "REGION\tFrequency \n",
    "Lisbon\t77 \n",
    "Oporto\t47 \n",
    "Other Region\t316 \n",
    "Total\t440 \n",
    "\n",
    "CHANNEL\tFrequency \n",
    "Horeca\t298 \n",
    "Retail\t142 \n",
    "Total\t440 \n",
    "\n"
   ]
  },
  {
   "cell_type": "code",
   "execution_count": null,
   "metadata": {
    "collapsed": true
   },
   "outputs": [],
   "source": [
    "# Name the categorical variables. We do this because sklearn doesn't accept String variables.\n",
    "df[\"region_name\"] = df[\"Region\"].map({1:\"Lisabon\", 2:\"Porto\", 3:\"Other\"})\n",
    "df[\"channel_name\"] = df[\"Channel\"].map({1:\"Hotel/Restaurant\", 2:\"Retail\"})"
   ]
  },
  {
   "cell_type": "markdown",
   "metadata": {},
   "source": [
    "### 2. Define Goal:"
   ]
  },
  {
   "cell_type": "markdown",
   "metadata": {},
   "source": [
    "**- Visualize the data and identify correlations between sales.**\n",
    "\n",
    "**- Segment and cluster the wholesale customers in terms of annual sales to identify patterns.**"
   ]
  },
  {
   "cell_type": "code",
   "execution_count": null,
   "metadata": {
    "collapsed": true
   },
   "outputs": [],
   "source": [
    "#eliminating some outliers for better visualization:\n",
    "num_df = df[[\"Fresh\", \"Milk\", \"Grocery\", \"Frozen\", \"Detergents_Paper\", \"Delicassen\"]]\n",
    "# We use the z score method to find outliers and then remove them from the dataset.\n",
    "good_index = num_df[(np.abs(stats.zscore(num_df)) < 2.5).all(axis=1)].index\n",
    "df = df.loc[good_index]"
   ]
  },
  {
   "cell_type": "markdown",
   "metadata": {},
   "source": [
    "### 3. Visualize:"
   ]
  },
  {
   "cell_type": "markdown",
   "metadata": {},
   "source": [
    "#### Scatterplots:"
   ]
  },
  {
   "cell_type": "code",
   "execution_count": null,
   "metadata": {
    "scrolled": true
   },
   "outputs": [],
   "source": [
    "sns.pairplot(df.loc[:,\"Fresh\":\"Delicassen\"])"
   ]
  },
  {
   "cell_type": "markdown",
   "metadata": {},
   "source": [
    "#### Now let's look at the correlations. Correlations will show how different buying patterns move. So for example, a high correlation bewteen item A and item B would indicate that the customers who buy a lot of item A tend to buy a lot of item B as well (and vice versa)."
   ]
  },
  {
   "cell_type": "code",
   "execution_count": null,
   "metadata": {
    "collapsed": true
   },
   "outputs": [],
   "source": [
    "correlations = df.loc[:,\"Fresh\":\"Delicassen\"].corr()"
   ]
  },
  {
   "cell_type": "code",
   "execution_count": null,
   "metadata": {},
   "outputs": [],
   "source": [
    "plt.figure(figsize = (10, 8))\n",
    "sns.heatmap(correlations)"
   ]
  },
  {
   "cell_type": "markdown",
   "metadata": {},
   "source": [
    "### Based on the scatterplots and the correlation heatmap we observe the following:\n",
    "\n",
    "\n",
    "- **Milk and Gorcery Sales are positively correlated - meaning clients who buy a lot of one buy a lot of the other**\n",
    "- **Grocery and Detergents/Paper are positively correlated as well**\n",
    "- **People don't tend to buy a lot of Detergents/Paper. **"
   ]
  },
  {
   "cell_type": "markdown",
   "metadata": {},
   "source": [
    "#### So what we're going to do look at the plots based on the channel the customer purchased from. The idea is to see if certain customers who purchased from a certain channel hae any common purchasing patterns. "
   ]
  },
  {
   "cell_type": "code",
   "execution_count": null,
   "metadata": {},
   "outputs": [],
   "source": [
    "sns.pairplot(df[[\"Fresh\", \"Milk\", \"Delicassen\", \"Grocery\", \"channel_name\", \"Detergents_Paper\"]], hue = \"channel_name\")"
   ]
  },
  {
   "cell_type": "markdown",
   "metadata": {},
   "source": [
    "#### From the graphs, we notice something:\n",
    "- **We can see a fairly clear split between the two channels in that the Hotel channel tends to buy in lesser quantities than the Retail channel for the Detergents/Paper and Grocery. This makes sense because Retailers sell in much higher volumes than hotels. However, Hotels tend to purchase more Fresh foods than Retailers. This si fairly surprising given that retailers specialize in selling produce. For Milk and Deli, there really isn't a difference.**"
   ]
  },
  {
   "cell_type": "code",
   "execution_count": null,
   "metadata": {},
   "outputs": [],
   "source": [
    "df.groupby(\"channel_name\").mean()"
   ]
  },
  {
   "cell_type": "code",
   "execution_count": null,
   "metadata": {},
   "outputs": [],
   "source": [
    "df[[\"Grocery\", \"channel_name\"]].pivot(columns = \"channel_name\", values = \"Grocery\").plot.density()\n",
    "plt.title(\"Gorcery Sales vs. Channel\")"
   ]
  },
  {
   "cell_type": "markdown",
   "metadata": {},
   "source": [
    "### Taking a closer view of the data using the table and the visalization above, we can observe the following:\n",
    "\n",
    "- **Grocery, Milk, and Detergents/Paper\thave higher sales for the Retail channel name over the Hotel/Restaurant channel.**\n",
    "- **For Fresh Produce and Delicassen the differences aren't very significant between the Hotel/Restaurant and Retail channels**\n",
    "- **The overall distributions of the Hotel and Retail sections are very different. The Retail distribution has much heavier tails (higher Kurtosis or Platykurtic) than the hotel (which is almost Gaussian/Normal) **"
   ]
  },
  {
   "cell_type": "markdown",
   "metadata": {},
   "source": [
    "## 4. Customer Segmentation:\n",
    "\n",
    "Here is where the magic happens: We will use the KMeans algorithm to cluster the customers based on how much they buy in the different categories. So based on their order quantities, we will see if there's some latent feature that allows us to cluster the customers."
   ]
  },
  {
   "cell_type": "code",
   "execution_count": null,
   "metadata": {
    "collapsed": true
   },
   "outputs": [],
   "source": [
    "# Load the libraries from sklearn\n",
    "from sklearn.cluster import KMeans\n",
    "from sklearn.preprocessing import StandardScaler, MinMaxScaler\n",
    "from sklearn.pipeline import make_pipeline"
   ]
  },
  {
   "cell_type": "code",
   "execution_count": null,
   "metadata": {},
   "outputs": [],
   "source": [
    "X = df.loc[:,\"Fresh\":\"Delicassen\"]\n",
    "X.head()"
   ]
  },
  {
   "cell_type": "code",
   "execution_count": null,
   "metadata": {
    "collapsed": true
   },
   "outputs": [],
   "source": [
    "# We first need to scale the data with the MinMaxScaler because we want k means to treat the variables as having the same\n",
    "# scale. What this means is that if we attempt to for example run k means with a dataset that has 2 features: housing price\n",
    "# and temperatire, the algorithm will focus more on housing price because technically, there's more variance because the \n",
    "# values are larger.\n",
    "\n",
    "kmeans = make_pipeline(MinMaxScaler(),\n",
    "                       KMeans(n_clusters=4, random_state = 4))"
   ]
  },
  {
   "cell_type": "code",
   "execution_count": null,
   "metadata": {},
   "outputs": [],
   "source": [
    "# We're going to fit the algorithm to the dataset.\n",
    "kmeans.fit(X)"
   ]
  },
  {
   "cell_type": "code",
   "execution_count": null,
   "metadata": {
    "collapsed": true
   },
   "outputs": [],
   "source": [
    "# We're now going to add the cluster assignments to the dataset as features for easier visualization. Adding the clusters\n",
    "# can also be used to potentially increase the classification accuracy or lower the RSME (or whatever metric you choose to\n",
    "# use) for regression problems.\n",
    "\n",
    "X[\"clusters\"] = kmeans.named_steps[\"kmeans\"].labels_"
   ]
  },
  {
   "cell_type": "markdown",
   "metadata": {},
   "source": [
    "### Visualizing the Clusters:"
   ]
  },
  {
   "cell_type": "code",
   "execution_count": null,
   "metadata": {},
   "outputs": [],
   "source": [
    "sns.pairplot(X, hue = \"clusters\")"
   ]
  },
  {
   "cell_type": "markdown",
   "metadata": {},
   "source": [
    "We can get some intuition on the clusters even just by looking at the scatterplots. Let's look at the one more closely:"
   ]
  },
  {
   "cell_type": "code",
   "execution_count": null,
   "metadata": {},
   "outputs": [],
   "source": [
    "sns.lmplot(x = \"Fresh\", y = \"Frozen\", data = X, hue = \"clusters\", fit_reg = False)"
   ]
  },
  {
   "cell_type": "markdown",
   "metadata": {},
   "source": [
    "We observe the following based on the scatterplot above:\n",
    "\n",
    "- ** Cluster 1 and 2 are mostly clients who buy less Fresh and Frozen products**\n",
    "\n",
    "- ** Clients in Cluster 3 buy a lot of Frozen products but not a lot of Fresh Products**\n",
    "\n",
    "- ** Clients in Cluster 0 clients buy a lot of Fresh but not a lot of Frozen Products**"
   ]
  },
  {
   "cell_type": "markdown",
   "metadata": {},
   "source": [
    "### Interpreting the Segments:\n",
    "\n",
    "Let's look at the center of each cluster and see what the coefficients are - the largest coefficients will be the dominant features for that specific cluster so we can get an intuition of what dimensions are important for each cluster:"
   ]
  },
  {
   "cell_type": "code",
   "execution_count": null,
   "metadata": {
    "collapsed": true
   },
   "outputs": [],
   "source": [
    "centers = kmeans.named_steps[\"kmeans\"].cluster_centers_"
   ]
  },
  {
   "cell_type": "code",
   "execution_count": null,
   "metadata": {
    "collapsed": true
   },
   "outputs": [],
   "source": [
    "centers = pd.DataFrame(centers, columns = X.columns[:6])"
   ]
  },
  {
   "cell_type": "code",
   "execution_count": null,
   "metadata": {},
   "outputs": [],
   "source": [
    "centers.iloc[0].plot(kind = \"barh\")\n",
    "plt.title(\"Cluster 0 Center Coordinates\")"
   ]
  },
  {
   "cell_type": "code",
   "execution_count": null,
   "metadata": {},
   "outputs": [],
   "source": [
    "centers.iloc[1].plot(kind = \"barh\")\n",
    "plt.title(\"Cluster 1 Center Coordinates\")"
   ]
  },
  {
   "cell_type": "code",
   "execution_count": null,
   "metadata": {},
   "outputs": [],
   "source": [
    "centers.iloc[2].plot(kind = \"barh\")\n",
    "plt.title(\"Cluster 2 Center Coordinates\")"
   ]
  },
  {
   "cell_type": "code",
   "execution_count": null,
   "metadata": {},
   "outputs": [],
   "source": [
    "centers.iloc[3].plot(kind = \"barh\")\n",
    "plt.title(\"Cluster 3 Center Coordinates\")"
   ]
  },
  {
   "cell_type": "markdown",
   "metadata": {},
   "source": [
    "Based on the size of the bars in the barplots above we can get an idea of the different important features in each cluster:\n",
    "\n",
    "- **Cluster 0: Clients who spend a lot in the Frozen Categories**\n",
    "- **Cluster 1: A balanced cluster - clients with roughly similar buying habits across the categories - leaning toward the Grovery/Milk/Fresh categories however**\n",
    "- **Cluster 2: Clients who spend a lot in the Grocery + Detergents + Milk Categories and less in all the other categories**\n",
    "- **Clsuter 3: Clients who spend a lot in the Fresh Category and less of everything else**"
   ]
  },
  {
   "cell_type": "markdown",
   "metadata": {
    "collapsed": true
   },
   "source": [
    "### We can also play around with the number of clusters - let's try only 2:"
   ]
  },
  {
   "cell_type": "code",
   "execution_count": null,
   "metadata": {
    "collapsed": true
   },
   "outputs": [],
   "source": [
    "X = df.loc[:,\"Fresh\":\"Delicassen\"]\n",
    "kmeans = make_pipeline(MinMaxScaler(),\n",
    "                       KMeans(n_clusters=2, random_state = 4))\n",
    "kmeans.fit(X)\n",
    "#add the clusters to the dataframe for easier visualization:\n",
    "X[\"clusters\"] = kmeans.named_steps[\"kmeans\"].labels_\n"
   ]
  },
  {
   "cell_type": "code",
   "execution_count": null,
   "metadata": {},
   "outputs": [],
   "source": [
    "sns.pairplot(X, hue = \"clusters\")"
   ]
  },
  {
   "cell_type": "code",
   "execution_count": null,
   "metadata": {
    "collapsed": true
   },
   "outputs": [],
   "source": [
    "centers = kmeans.named_steps[\"kmeans\"].cluster_centers_"
   ]
  },
  {
   "cell_type": "code",
   "execution_count": null,
   "metadata": {
    "collapsed": true
   },
   "outputs": [],
   "source": [
    "centers = kmeans.named_steps[\"kmeans\"].cluster_centers_\n",
    "centers = pd.DataFrame(centers, columns = X.columns[:6])"
   ]
  },
  {
   "cell_type": "code",
   "execution_count": null,
   "metadata": {},
   "outputs": [],
   "source": [
    "centers.iloc[0].plot(kind = \"barh\")\n",
    "plt.title(\"Cluster 0 Center Coordinates\")"
   ]
  },
  {
   "cell_type": "code",
   "execution_count": null,
   "metadata": {},
   "outputs": [],
   "source": [
    "centers.iloc[1].plot(kind = \"barh\")\n",
    "plt.title(\"Cluster 1 Center Coordinates\")"
   ]
  },
  {
   "cell_type": "markdown",
   "metadata": {},
   "source": [
    "We see the separation here:\n",
    "- **Cluster 1 - Clients who spend a lot in the Detergents, Grocery, and Milk Categories**\n",
    "- **Cluster 0 - Clients who spend a lot in the Fresh Category and slighlty above average in Frozen**"
   ]
  },
  {
   "cell_type": "markdown",
   "metadata": {},
   "source": [
    "### Relationship between Segmenting and predifined categories like Channel:\n",
    "We can see how our clusters compare with other information in the data - for example how are the clusters related to the Channel?"
   ]
  },
  {
   "cell_type": "code",
   "execution_count": null,
   "metadata": {
    "collapsed": true
   },
   "outputs": [],
   "source": [
    "df[\"cluster\"] = X[\"clusters\"]"
   ]
  },
  {
   "cell_type": "code",
   "execution_count": null,
   "metadata": {},
   "outputs": [],
   "source": [
    "df.groupby([\"cluster\", \"channel_name\"])[\"Frozen\"].count().unstack().plot(kind = \"bar\")\n",
    "plt.title(\"Channel Counts based on Clusters\")"
   ]
  },
  {
   "cell_type": "code",
   "execution_count": null,
   "metadata": {},
   "outputs": [],
   "source": [
    "df.groupby([\"cluster\", \"channel_name\"])[\"Frozen\"].count()"
   ]
  },
  {
   "cell_type": "markdown",
   "metadata": {},
   "source": [
    "We observe the following:\n",
    "\n",
    "- **Cluster 0 contains 87%  Hotel/Restaurant clients**\n",
    "\n",
    "- **Cluster 1 has 86% Retail Clients **\n",
    "\n",
    "**So our customer segmentation has identified and learned the notion of different channels - in this case Hotel\\Restaurant vs. Retail:**\n",
    "\n",
    "- **Cluster 1 is mostly Retail with customers who spend a lot on Detergents, Grocery, and Milk Categories**\n",
    "- **Cluster 0 is mostly Hotel/Restaurant with clients who spend a lot on the Fresh Category and slighlty above average in Frozen**\n",
    "\n",
    "The best part is that the clustering algorithm did not have acces to the Channel Labels directly - we only clustered on the spending habits of the clients - the fact that the algorithm managed to segment the clients roughly by channel is remarkable."
   ]
  }
 ],
 "metadata": {
  "anaconda-cloud": {},
  "kernelspec": {
   "display_name": "Python 3",
   "language": "python",
   "name": "python3"
  },
  "language_info": {
   "codemirror_mode": {
    "name": "ipython",
    "version": 3
   },
   "file_extension": ".py",
   "mimetype": "text/x-python",
   "name": "python",
   "nbconvert_exporter": "python",
   "pygments_lexer": "ipython3",
   "version": "3.5.3"
  }
 },
 "nbformat": 4,
 "nbformat_minor": 2
}
